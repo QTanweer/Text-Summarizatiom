{
 "cells": [
  {
   "cell_type": "code",
   "execution_count": 2,
   "metadata": {},
   "outputs": [
    {
     "data": {
      "text/plain": [
       "'/workspaces/Text-Summarization/research'"
      ]
     },
     "execution_count": 2,
     "metadata": {},
     "output_type": "execute_result"
    }
   ],
   "source": [
    "%pwd"
   ]
  },
  {
   "cell_type": "code",
   "execution_count": 3,
   "metadata": {},
   "outputs": [],
   "source": [
    "import os\n",
    "os.chdir('../')"
   ]
  },
  {
   "cell_type": "code",
   "execution_count": 4,
   "metadata": {},
   "outputs": [
    {
     "data": {
      "text/plain": [
       "'/workspaces/Text-Summarization'"
      ]
     },
     "execution_count": 4,
     "metadata": {},
     "output_type": "execute_result"
    }
   ],
   "source": [
    "%pwd"
   ]
  },
  {
   "cell_type": "markdown",
   "metadata": {},
   "source": [
    "## Entities "
   ]
  },
  {
   "cell_type": "code",
   "execution_count": 5,
   "metadata": {},
   "outputs": [],
   "source": [
    "from dataclasses import dataclass\n",
    "from pathlib import Path"
   ]
  },
  {
   "cell_type": "code",
   "execution_count": 6,
   "metadata": {},
   "outputs": [],
   "source": [
    "@dataclass(frozen=True)\n",
    "class DataValidationConfig:\n",
    "    root_dir: Path \n",
    "    STATUS_FILE: str\n",
    "    ALL_REQUIRED_FILES: list"
   ]
  },
  {
   "cell_type": "markdown",
   "metadata": {},
   "source": [
    "## configurtions manager in src/config"
   ]
  },
  {
   "cell_type": "code",
   "execution_count": 7,
   "metadata": {},
   "outputs": [],
   "source": [
    "from src.textSummarization.constants import CONFIG_FILE_PATH, PARAMS_FILE_PATH\n",
    "from src.textSummarization.utils.common import read_yaml, create_directories"
   ]
  },
  {
   "cell_type": "code",
   "execution_count": 8,
   "metadata": {},
   "outputs": [],
   "source": [
    "class ConfigurationManager():\n",
    "    def __init__(\n",
    "            self,\n",
    "            config_filepath=CONFIG_FILE_PATH,\n",
    "            params_filepath = PARAMS_FILE_PATH\n",
    "    ):\n",
    "        print(\"Configuration Manager Initiated\")\n",
    "        self.config = read_yaml(config_filepath)\n",
    "        self.params = read_yaml(params_filepath)\n",
    "\n",
    "        create_directories([self.config.artifacts_root])\n",
    "\n",
    "    def get_data_validation_config(self) -> DataValidationConfig:\n",
    "        \n",
    "        create_directories([self.config.data_validation.root_dir])\n",
    "        return DataValidationConfig(\n",
    "            root_dir = Path(self.config.data_validation.root_dir),\n",
    "            STATUS_FILE=self.config.data_validation.STATUS_FILE,\n",
    "            ALL_REQUIRED_FILES=self.config.data_validation.ALL_REQUIRED_FILES\n",
    "        )\n",
    "            "
   ]
  },
  {
   "cell_type": "markdown",
   "metadata": {},
   "source": [
    "## Components"
   ]
  },
  {
   "cell_type": "code",
   "execution_count": 9,
   "metadata": {},
   "outputs": [],
   "source": [
    "import os\n",
    "from textSummarization.logging import logger"
   ]
  },
  {
   "cell_type": "code",
   "execution_count": 13,
   "metadata": {},
   "outputs": [
    {
     "name": "stdout",
     "output_type": "stream",
     "text": [
      "['train', 'dataset_dict.json', 'test', 'validation']\n"
     ]
    },
    {
     "ename": "NameError",
     "evalue": "name 'self' is not defined",
     "output_type": "error",
     "traceback": [
      "\u001b[0;31m---------------------------------------------------------------------------\u001b[0m",
      "\u001b[0;31mNameError\u001b[0m                                 Traceback (most recent call last)",
      "\u001b[1;32m/workspaces/Text-Summarization/research/02_data_validation.ipynb Cell 12\u001b[0m line \u001b[0;36m7\n\u001b[1;32m      <a href='vscode-notebook-cell://codespaces%2Bsupreme-space-adventure-7549v667w66fxpg7/workspaces/Text-Summarization/research/02_data_validation.ipynb#X14sdnNjb2RlLXJlbW90ZQ%3D%3D?line=0'>1</a>\u001b[0m \u001b[39mprint\u001b[39m(os\u001b[39m.\u001b[39mlistdir(Path(\u001b[39m\"\u001b[39m\u001b[39martifacts/data_ingestion/samsum_dataset\u001b[39m\u001b[39m\"\u001b[39m)))\n\u001b[1;32m      <a href='vscode-notebook-cell://codespaces%2Bsupreme-space-adventure-7549v667w66fxpg7/workspaces/Text-Summarization/research/02_data_validation.ipynb#X14sdnNjb2RlLXJlbW90ZQ%3D%3D?line=1'>2</a>\u001b[0m \u001b[39m# lis = [(os.path.isdir(Path(each))) for each in os.listdir(Path(\"artifacts/data_ingestion/samsum_dataset\"))]\u001b[39;00m\n\u001b[1;32m      <a href='vscode-notebook-cell://codespaces%2Bsupreme-space-adventure-7549v667w66fxpg7/workspaces/Text-Summarization/research/02_data_validation.ipynb#X14sdnNjb2RlLXJlbW90ZQ%3D%3D?line=2'>3</a>\u001b[0m \u001b[39m# lis\u001b[39;00m\n\u001b[1;32m      <a href='vscode-notebook-cell://codespaces%2Bsupreme-space-adventure-7549v667w66fxpg7/workspaces/Text-Summarization/research/02_data_validation.ipynb#X14sdnNjb2RlLXJlbW90ZQ%3D%3D?line=3'>4</a>\u001b[0m \n\u001b[1;32m      <a href='vscode-notebook-cell://codespaces%2Bsupreme-space-adventure-7549v667w66fxpg7/workspaces/Text-Summarization/research/02_data_validation.ipynb#X14sdnNjb2RlLXJlbW90ZQ%3D%3D?line=4'>5</a>\u001b[0m \u001b[39m# for each in \u001b[39;00m\n\u001b[1;32m      <a href='vscode-notebook-cell://codespaces%2Bsupreme-space-adventure-7549v667w66fxpg7/workspaces/Text-Summarization/research/02_data_validation.ipynb#X14sdnNjb2RlLXJlbW90ZQ%3D%3D?line=5'>6</a>\u001b[0m \u001b[39m#[ True for each in self.config.ALL_REQUIRED_FILES if each in os.listdir(Path(\"artifacts/data_ingestion/samsum_dataset\")) else False ]\u001b[39;00m\n\u001b[0;32m----> <a href='vscode-notebook-cell://codespaces%2Bsupreme-space-adventure-7549v667w66fxpg7/workspaces/Text-Summarization/research/02_data_validation.ipynb#X14sdnNjb2RlLXJlbW90ZQ%3D%3D?line=6'>7</a>\u001b[0m validation_status \u001b[39m=\u001b[39m \u001b[39mall\u001b[39m(each \u001b[39min\u001b[39;00m os\u001b[39m.\u001b[39mlistdir(Path(\u001b[39m\"\u001b[39m\u001b[39martifacts/data_ingestion/samsum_dataset\u001b[39m\u001b[39m\"\u001b[39m)) \u001b[39mfor\u001b[39;00m each \u001b[39min\u001b[39;00m \u001b[39mself\u001b[39;49m\u001b[39m.\u001b[39mconfig\u001b[39m.\u001b[39mALL_REQUIRED_FILES)\n\u001b[1;32m      <a href='vscode-notebook-cell://codespaces%2Bsupreme-space-adventure-7549v667w66fxpg7/workspaces/Text-Summarization/research/02_data_validation.ipynb#X14sdnNjb2RlLXJlbW90ZQ%3D%3D?line=7'>8</a>\u001b[0m validation_status\n",
      "\u001b[0;31mNameError\u001b[0m: name 'self' is not defined"
     ]
    }
   ],
   "source": [
    "print(os.listdir(Path(\"artifacts/data_ingestion/samsum_dataset\")))\n",
    "# lis = [(os.path.isdir(Path(each))) for each in os.listdir(Path(\"artifacts/data_ingestion/samsum_dataset\"))]\n",
    "# lis\n",
    "\n",
    "# for each in \n",
    "#[ True for each in self.config.ALL_REQUIRED_FILES if each in os.listdir(Path(\"artifacts/data_ingestion/samsum_dataset\")) else False ]\n",
    "validation_status = all(each in os.listdir(Path(\"artifacts/data_ingestion/samsum_dataset\")) for each in self.config.ALL_REQUIRED_FILES)\n",
    "validation_status"
   ]
  },
  {
   "cell_type": "code",
   "execution_count": 14,
   "metadata": {},
   "outputs": [],
   "source": [
    "class DataValidation:\n",
    "    def __init__(self, config: DataValidationConfig):\n",
    "        self.config = config\n",
    "\n",
    "\n",
    "    def _validate_all_files_exist(self) -> bool:\n",
    "        try:\n",
    "            validation_status = all(each in os.listdir(Path(\"artifacts/data_ingestion/samsum_dataset\")) for each in self.config.ALL_REQUIRED_FILES)\n",
    "            with open(Path(self.config.STATUS_FILE), 'w') as f:\n",
    "                f.write(f\"Validation Status: {str(validation_status)}\")\n",
    "            return validation_status\n",
    "    \n",
    "        except Exception as e:\n",
    "            raise e\n",
    "\n"
   ]
  },
  {
   "cell_type": "markdown",
   "metadata": {},
   "source": [
    "## Pipeline"
   ]
  },
  {
   "cell_type": "code",
   "execution_count": 16,
   "metadata": {},
   "outputs": [
    {
     "name": "stdout",
     "output_type": "stream",
     "text": [
      "Configuration Manager Initiated\n",
      "[2023-10-08 10:11:33,676: INFO: common] yaml file: config/config.yaml loaded successfully\n",
      "[2023-10-08 10:11:33,678: INFO: common] yaml file: params.yaml loaded successfully\n",
      "[2023-10-08 10:11:33,679: INFO: common] directory: artifacts created successfully\n",
      "[2023-10-08 10:11:33,680: INFO: common] directory: artifacts created successfully\n",
      "[2023-10-08 10:11:33,680: INFO: common] directory: artifacts/data_validation created successfully\n",
      "[2023-10-08 10:11:33,681: INFO: common] directory: artifacts/data_validation created successfully\n",
      "[2023-10-08 10:11:33,678: INFO: common] yaml file: params.yaml loaded successfully\n",
      "[2023-10-08 10:11:33,679: INFO: common] directory: artifacts created successfully\n",
      "[2023-10-08 10:11:33,680: INFO: common] directory: artifacts created successfully\n",
      "[2023-10-08 10:11:33,680: INFO: common] directory: artifacts/data_validation created successfully\n",
      "[2023-10-08 10:11:33,681: INFO: common] directory: artifacts/data_validation created successfully\n"
     ]
    }
   ],
   "source": [
    "try:\n",
    "    config = ConfigurationManager()\n",
    "    data_validation_config = config.get_data_validation_config()\n",
    "    data_validation = DataValidation(config=data_validation_config)\n",
    "    data_validation._validate_all_files_exist()\n",
    "except Exception as e:\n",
    "    raise e\n"
   ]
  },
  {
   "cell_type": "code",
   "execution_count": null,
   "metadata": {},
   "outputs": [],
   "source": []
  }
 ],
 "metadata": {
  "kernelspec": {
   "display_name": "env",
   "language": "python",
   "name": "python3"
  },
  "language_info": {
   "codemirror_mode": {
    "name": "ipython",
    "version": 3
   },
   "file_extension": ".py",
   "mimetype": "text/x-python",
   "name": "python",
   "nbconvert_exporter": "python",
   "pygments_lexer": "ipython3",
   "version": "3.10.8"
  },
  "orig_nbformat": 4
 },
 "nbformat": 4,
 "nbformat_minor": 2
}
