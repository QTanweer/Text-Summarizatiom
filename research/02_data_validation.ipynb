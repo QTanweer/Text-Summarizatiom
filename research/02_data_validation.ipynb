{
 "cells": [
  {
   "cell_type": "code",
   "execution_count": 1,
   "metadata": {},
   "outputs": [
    {
     "data": {
      "text/plain": [
       "'/workspaces/Text-Summarization/research'"
      ]
     },
     "execution_count": 1,
     "metadata": {},
     "output_type": "execute_result"
    }
   ],
   "source": [
    "%pwd"
   ]
  },
  {
   "cell_type": "code",
   "execution_count": 2,
   "metadata": {},
   "outputs": [],
   "source": [
    "import os\n",
    "os.chdir('../')"
   ]
  },
  {
   "cell_type": "code",
   "execution_count": 3,
   "metadata": {},
   "outputs": [
    {
     "data": {
      "text/plain": [
       "'/workspaces/Text-Summarization'"
      ]
     },
     "execution_count": 3,
     "metadata": {},
     "output_type": "execute_result"
    }
   ],
   "source": [
    "%pwd"
   ]
  },
  {
   "cell_type": "markdown",
   "metadata": {},
   "source": [
    "## Entities "
   ]
  },
  {
   "cell_type": "code",
   "execution_count": 4,
   "metadata": {},
   "outputs": [],
   "source": [
    "from dataclasses import dataclass\n",
    "from pathlib import Path"
   ]
  },
  {
   "cell_type": "code",
   "execution_count": 5,
   "metadata": {},
   "outputs": [],
   "source": [
    "@dataclass(frozen=True)\n",
    "class DataValidationConfig:\n",
    "    root_dir: Path \n",
    "    STATUS_FILE: str\n",
    "    ALL_REQUIRED_FILES: list"
   ]
  },
  {
   "cell_type": "markdown",
   "metadata": {},
   "source": [
    "## configurtions manager in src/config"
   ]
  },
  {
   "cell_type": "code",
   "execution_count": 6,
   "metadata": {},
   "outputs": [],
   "source": [
    "from src.textSummarization.constants import CONFIG_FILE_PATH, PARAMS_FILE_PATH\n",
    "from src.textSummarization.utils.common import read_yaml, create_directories"
   ]
  },
  {
   "cell_type": "code",
   "execution_count": 7,
   "metadata": {},
   "outputs": [],
   "source": [
    "class ConfigurationManager():\n",
    "    def __init__(\n",
    "            self,\n",
    "            config_filepath=CONFIG_FILE_PATH,\n",
    "            params_filepath = PARAMS_FILE_PATH\n",
    "    ):\n",
    "        print(\"Configuration Manager Initiated\")\n",
    "        self.config = read_yaml(config_filepath)\n",
    "        self.params = read_yaml(params_filepath)\n",
    "\n",
    "        create_directories([self.config.artifacts_root])\n",
    "\n",
    "    def get_data_validation_config(self) -> DataValidationConfig:\n",
    "        \n",
    "        create_directories([self.config.data_validation.root_dir])\n",
    "        return DataValidationConfig(\n",
    "            root_dir = Path(self.config.data_validation.root_dir),\n",
    "            STATUS_FILE=self.config.data_validation.STATUS_FILE,\n",
    "            ALL_REQUIRED_FILES=self.config.data_validation.ALL_REQUIRED_FILES\n",
    "        )\n",
    "            "
   ]
  },
  {
   "cell_type": "markdown",
   "metadata": {},
   "source": [
    "## Components"
   ]
  },
  {
   "cell_type": "code",
   "execution_count": 8,
   "metadata": {},
   "outputs": [],
   "source": [
    "import os\n",
    "from textSummarization.logging import logger"
   ]
  },
  {
   "cell_type": "code",
   "execution_count": 9,
   "metadata": {},
   "outputs": [],
   "source": [
    "class DataValidation:\n",
    "    def __init__(self, config: DataValidationConfig):\n",
    "        self.config = config\n",
    "\n",
    "\n",
    "    def _validate_all_files_exist(self) -> bool:\n",
    "        try:\n",
    "            validation_status = all(each in os.listdir(Path(\"artifacts/data_ingestion/samsum_dataset\")) for each in self.config.ALL_REQUIRED_FILES)\n",
    "            with open(Path(self.config.STATUS_FILE), 'w') as f:\n",
    "                f.write(f\"Validation Status: {str(validation_status)}\")\n",
    "            return validation_status\n",
    "    \n",
    "        except Exception as e:\n",
    "            raise e\n",
    "\n"
   ]
  },
  {
   "cell_type": "markdown",
   "metadata": {},
   "source": [
    "## Pipeline"
   ]
  },
  {
   "cell_type": "code",
   "execution_count": 10,
   "metadata": {},
   "outputs": [
    {
     "name": "stdout",
     "output_type": "stream",
     "text": [
      "Configuration Manager Initiated\n",
      "[2023-10-08 10:13:33,601: INFO: common] yaml file: config/config.yaml loaded successfully\n",
      "[2023-10-08 10:13:33,602: INFO: common] yaml file: params.yaml loaded successfully\n",
      "[2023-10-08 10:13:33,603: INFO: common] directory: artifacts created successfully\n",
      "[2023-10-08 10:13:33,604: INFO: common] directory: artifacts/data_validation created successfully\n",
      "[2023-10-08 10:13:33,602: INFO: common] yaml file: params.yaml loaded successfully\n",
      "[2023-10-08 10:13:33,603: INFO: common] directory: artifacts created successfully\n",
      "[2023-10-08 10:13:33,604: INFO: common] directory: artifacts/data_validation created successfully\n"
     ]
    }
   ],
   "source": [
    "try:\n",
    "    config = ConfigurationManager()\n",
    "    data_validation_config = config.get_data_validation_config()\n",
    "    data_validation = DataValidation(config=data_validation_config)\n",
    "    data_validation._validate_all_files_exist()\n",
    "except Exception as e:\n",
    "    raise e\n"
   ]
  },
  {
   "cell_type": "code",
   "execution_count": null,
   "metadata": {},
   "outputs": [],
   "source": []
  }
 ],
 "metadata": {
  "kernelspec": {
   "display_name": "env",
   "language": "python",
   "name": "python3"
  },
  "language_info": {
   "codemirror_mode": {
    "name": "ipython",
    "version": 3
   },
   "file_extension": ".py",
   "mimetype": "text/x-python",
   "name": "python",
   "nbconvert_exporter": "python",
   "pygments_lexer": "ipython3",
   "version": "3.10.8"
  },
  "orig_nbformat": 4
 },
 "nbformat": 4,
 "nbformat_minor": 2
}
