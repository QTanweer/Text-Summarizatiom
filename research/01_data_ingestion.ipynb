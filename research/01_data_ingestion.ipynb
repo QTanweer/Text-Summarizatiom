{
 "cells": [
  {
   "cell_type": "code",
   "execution_count": 1,
   "metadata": {},
   "outputs": [
    {
     "data": {
      "text/plain": [
       "'/workspaces/Text-Summarization/research'"
      ]
     },
     "execution_count": 1,
     "metadata": {},
     "output_type": "execute_result"
    }
   ],
   "source": [
    "%pwd"
   ]
  },
  {
   "cell_type": "markdown",
   "metadata": {},
   "source": [
    "Incase the pwd is not the home folder, change the directory to home folder\n",
    "import os\n",
    "os.chdir(\"../\")"
   ]
  },
  {
   "cell_type": "code",
   "execution_count": 2,
   "metadata": {},
   "outputs": [],
   "source": [
    "import os\n",
    "os.chdir(\"../\")"
   ]
  },
  {
   "cell_type": "code",
   "execution_count": 3,
   "metadata": {},
   "outputs": [
    {
     "data": {
      "text/plain": [
       "'/workspaces/Text-Summarization'"
      ]
     },
     "execution_count": 3,
     "metadata": {},
     "output_type": "execute_result"
    }
   ],
   "source": [
    "%pwd"
   ]
  },
  {
   "cell_type": "code",
   "execution_count": 4,
   "metadata": {},
   "outputs": [],
   "source": [
    "from dataclasses import dataclass\n",
    "from pathlib import Path\n",
    "\n",
    "@dataclass(frozen=True)\n",
    "class DataIngestionConfig:\n",
    "    root_dir: Path\n",
    "    source_url: str\n",
    "    local_data_file: Path\n",
    "    unzip_dir: Path\n"
   ]
  },
  {
   "cell_type": "code",
   "execution_count": 5,
   "metadata": {},
   "outputs": [],
   "source": [
    "from textSummarization.constants import *\n",
    "from textSummarization.utils.common import read_yaml, create_directories\n",
    "from pathlib import Path\n",
    "\n",
    "class ConfigurationManager:\n",
    "    def __init__(\n",
    "            self,\n",
    "            config_filepath = CONFIG_FILE_PATH,\n",
    "            params_filepath = PARAMS_FILE_PATH,\n",
    "            ):\n",
    "        print(\"Configuration Manager Initiated\")\n",
    "        # print(f\"Config File Path: {config_filepath}, with dtype {type(config_filepath)}\")\n",
    "        # print(f\"Params File Path: {params_filepath} with dtype {type(params_filepath)}\")\n",
    "        self.configs = read_yaml(config_filepath)\n",
    "        self.params = read_yaml(params_filepath)\n",
    "\n",
    "        # print(f\"Configs: {self.configs}\")\n",
    "        create_directories([self.configs.artifacts_root])\n",
    "\n",
    "    def get_data_ingestion_config(self) -> DataIngestionConfig:\n",
    "        config = self.configs.data_ingestion\n",
    "\n",
    "        create_directories([config.root_dir])\n",
    "\n",
    "        return DataIngestionConfig(\n",
    "            root_dir = Path(config.root_dir),\n",
    "            source_url = config.source_url,\n",
    "            local_data_file = config.local_data_file,\n",
    "            unzip_dir = config.unzip_dir\n",
    "        )\n",
    "\n",
    "# config_dummy = ConfigurationManager()\n"
   ]
  },
  {
   "cell_type": "code",
   "execution_count": 10,
   "metadata": {},
   "outputs": [],
   "source": [
    "import os\n",
    "import urllib.request as request\n",
    "from zipfile import ZipFile\n",
    "from textSummarization.logging import logger\n",
    "from textSummarization.utils.common import get_size\n",
    "from textSummarization.entity.config_entity import DataIngestionConfig"
   ]
  },
  {
   "cell_type": "code",
   "execution_count": 11,
   "metadata": {},
   "outputs": [],
   "source": [
    "class DataIngestion:\n",
    "    \"\"\"\n",
    "    Data Ingestion class\n",
    "    \"\"\"\n",
    "    def __init__(self, config: DataIngestionConfig):\n",
    "        self.config = config\n",
    "\n",
    "    def download_file(self):\n",
    "        \"\"\"\n",
    "        Download file from source url\n",
    "        \"\"\"\n",
    "        if not os.path.exists(self.config.local_data_file):\n",
    "            filename, headers = request.urlretrieve(\n",
    "                url = self.config.source_url,\n",
    "                filename = self.config.local_data_file\n",
    "            )\n",
    "            logger.info(\"Downloaded file %s with the folowing headers: \\n%s\", filename, headers)\n",
    "        else:\n",
    "            logger.info(\n",
    "                \"File already exists at %s of size %s\",\n",
    "                  self.config.local_data_file,\n",
    "                    get_size(self.config.local_data_file))\n",
    "\n",
    "    def extract_zip_file(self):\n",
    "        \"\"\"\n",
    "        extract the zip file\n",
    "        \"\"\"\n",
    "        unzip_path = self.config.unzip_dir\n",
    "        os.makedirs(unzip_path, exist_ok=True)\n",
    "        with ZipFile(self.config.local_data_file, 'r') as zip_file:\n",
    "            zip_file.extractall(path=unzip_path)\n",
    "            logger.info(\"Extracted file at %s\", self.config.unzip_dir)"
   ]
  },
  {
   "cell_type": "code",
   "execution_count": 13,
   "metadata": {},
   "outputs": [
    {
     "name": "stdout",
     "output_type": "stream",
     "text": [
      "Configuration Manager Initiated\n",
      "[2023-10-04 18:04:12,423: ERROR: 3744891085] name 'yaml' is not defined\n",
      "Traceback (most recent call last):\n",
      "  File \"/tmp/ipykernel_1238/3744891085.py\", line 2, in <module>\n",
      "    config = ConfigurationManager()\n",
      "  File \"/tmp/ipykernel_1238/3224431094.py\", line 14, in __init__\n",
      "    self.configs = read_yaml(config_filepath)\n",
      "  File \"/workspaces/Text-Summarization/env/lib/python3.10/site-packages/ensure/main.py\", line 872, in __call__\n",
      "    return_val = self.f(*args, **kwargs)\n",
      "  File \"/workspaces/Text-Summarization/src/textSummarization/utils/common.py\", line 39, in read_yaml\n",
      "    raise error\n",
      "  File \"/workspaces/Text-Summarization/src/textSummarization/utils/common.py\", line 33, in read_yaml\n",
      "    content = yaml.safe_load(yaml_file)\n",
      "NameError: name 'yaml' is not defined\n"
     ]
    },
    {
     "ename": "NameError",
     "evalue": "name 'yaml' is not defined",
     "output_type": "error",
     "traceback": [
      "\u001b[0;31m---------------------------------------------------------------------------\u001b[0m",
      "\u001b[0;31mNameError\u001b[0m                                 Traceback (most recent call last)",
      "\u001b[1;32m/workspaces/Text-Summarization/research/01_data_ingestion.ipynb Cell 9\u001b[0m line \u001b[0;36m9\n\u001b[1;32m      <a href='vscode-notebook-cell://codespaces%2Bsupreme-space-adventure-7549v667w66fxpg7/workspaces/Text-Summarization/research/01_data_ingestion.ipynb#X11sdnNjb2RlLXJlbW90ZQ%3D%3D?line=6'>7</a>\u001b[0m \u001b[39mexcept\u001b[39;00m \u001b[39mException\u001b[39;00m \u001b[39mas\u001b[39;00m e:\n\u001b[1;32m      <a href='vscode-notebook-cell://codespaces%2Bsupreme-space-adventure-7549v667w66fxpg7/workspaces/Text-Summarization/research/01_data_ingestion.ipynb#X11sdnNjb2RlLXJlbW90ZQ%3D%3D?line=7'>8</a>\u001b[0m     logger\u001b[39m.\u001b[39mexception(e)\n\u001b[0;32m----> <a href='vscode-notebook-cell://codespaces%2Bsupreme-space-adventure-7549v667w66fxpg7/workspaces/Text-Summarization/research/01_data_ingestion.ipynb#X11sdnNjb2RlLXJlbW90ZQ%3D%3D?line=8'>9</a>\u001b[0m     \u001b[39mraise\u001b[39;00m e\n",
      "\u001b[1;32m/workspaces/Text-Summarization/research/01_data_ingestion.ipynb Cell 9\u001b[0m line \u001b[0;36m2\n\u001b[1;32m      <a href='vscode-notebook-cell://codespaces%2Bsupreme-space-adventure-7549v667w66fxpg7/workspaces/Text-Summarization/research/01_data_ingestion.ipynb#X11sdnNjb2RlLXJlbW90ZQ%3D%3D?line=0'>1</a>\u001b[0m \u001b[39mtry\u001b[39;00m:\n\u001b[0;32m----> <a href='vscode-notebook-cell://codespaces%2Bsupreme-space-adventure-7549v667w66fxpg7/workspaces/Text-Summarization/research/01_data_ingestion.ipynb#X11sdnNjb2RlLXJlbW90ZQ%3D%3D?line=1'>2</a>\u001b[0m     config \u001b[39m=\u001b[39m ConfigurationManager()\n\u001b[1;32m      <a href='vscode-notebook-cell://codespaces%2Bsupreme-space-adventure-7549v667w66fxpg7/workspaces/Text-Summarization/research/01_data_ingestion.ipynb#X11sdnNjb2RlLXJlbW90ZQ%3D%3D?line=2'>3</a>\u001b[0m     data_ingestion_config \u001b[39m=\u001b[39m config\u001b[39m.\u001b[39mget_data_ingestion_config()\n\u001b[1;32m      <a href='vscode-notebook-cell://codespaces%2Bsupreme-space-adventure-7549v667w66fxpg7/workspaces/Text-Summarization/research/01_data_ingestion.ipynb#X11sdnNjb2RlLXJlbW90ZQ%3D%3D?line=3'>4</a>\u001b[0m     data_ingestion \u001b[39m=\u001b[39m DataIngestion(config\u001b[39m=\u001b[39mdata_ingestion_config)\n",
      "\u001b[1;32m/workspaces/Text-Summarization/research/01_data_ingestion.ipynb Cell 9\u001b[0m line \u001b[0;36m1\n\u001b[1;32m     <a href='vscode-notebook-cell://codespaces%2Bsupreme-space-adventure-7549v667w66fxpg7/workspaces/Text-Summarization/research/01_data_ingestion.ipynb#X11sdnNjb2RlLXJlbW90ZQ%3D%3D?line=10'>11</a>\u001b[0m \u001b[39mprint\u001b[39m(\u001b[39m\"\u001b[39m\u001b[39mConfiguration Manager Initiated\u001b[39m\u001b[39m\"\u001b[39m)\n\u001b[1;32m     <a href='vscode-notebook-cell://codespaces%2Bsupreme-space-adventure-7549v667w66fxpg7/workspaces/Text-Summarization/research/01_data_ingestion.ipynb#X11sdnNjb2RlLXJlbW90ZQ%3D%3D?line=11'>12</a>\u001b[0m \u001b[39m# print(f\"Config File Path: {config_filepath}, with dtype {type(config_filepath)}\")\u001b[39;00m\n\u001b[1;32m     <a href='vscode-notebook-cell://codespaces%2Bsupreme-space-adventure-7549v667w66fxpg7/workspaces/Text-Summarization/research/01_data_ingestion.ipynb#X11sdnNjb2RlLXJlbW90ZQ%3D%3D?line=12'>13</a>\u001b[0m \u001b[39m# print(f\"Params File Path: {params_filepath} with dtype {type(params_filepath)}\")\u001b[39;00m\n\u001b[0;32m---> <a href='vscode-notebook-cell://codespaces%2Bsupreme-space-adventure-7549v667w66fxpg7/workspaces/Text-Summarization/research/01_data_ingestion.ipynb#X11sdnNjb2RlLXJlbW90ZQ%3D%3D?line=13'>14</a>\u001b[0m \u001b[39mself\u001b[39m\u001b[39m.\u001b[39mconfigs \u001b[39m=\u001b[39m read_yaml(config_filepath)\n\u001b[1;32m     <a href='vscode-notebook-cell://codespaces%2Bsupreme-space-adventure-7549v667w66fxpg7/workspaces/Text-Summarization/research/01_data_ingestion.ipynb#X11sdnNjb2RlLXJlbW90ZQ%3D%3D?line=14'>15</a>\u001b[0m \u001b[39mself\u001b[39m\u001b[39m.\u001b[39mparams \u001b[39m=\u001b[39m read_yaml(params_filepath)\n\u001b[1;32m     <a href='vscode-notebook-cell://codespaces%2Bsupreme-space-adventure-7549v667w66fxpg7/workspaces/Text-Summarization/research/01_data_ingestion.ipynb#X11sdnNjb2RlLXJlbW90ZQ%3D%3D?line=16'>17</a>\u001b[0m \u001b[39m# print(f\"Configs: {self.configs}\")\u001b[39;00m\n",
      "File \u001b[0;32m/workspaces/Text-Summarization/env/lib/python3.10/site-packages/ensure/main.py:872\u001b[0m, in \u001b[0;36mWrappedFunctionReturn.__call__\u001b[0;34m(self, *args, **kwargs)\u001b[0m\n\u001b[1;32m    869\u001b[0m         msg \u001b[39m=\u001b[39m \u001b[39m\"\u001b[39m\u001b[39mArgument \u001b[39m\u001b[39m{arg}\u001b[39;00m\u001b[39m of type \u001b[39m\u001b[39m{valt}\u001b[39;00m\u001b[39m to \u001b[39m\u001b[39m{f}\u001b[39;00m\u001b[39m \u001b[39m\u001b[39m\"\u001b[39m \u001b[39m\"\u001b[39m\u001b[39mdoes not match annotation type \u001b[39m\u001b[39m{t}\u001b[39;00m\u001b[39m\"\u001b[39m\n\u001b[1;32m    870\u001b[0m         \u001b[39mraise\u001b[39;00m EnsureError(msg\u001b[39m.\u001b[39mformat(arg\u001b[39m=\u001b[39marg, f\u001b[39m=\u001b[39m\u001b[39mself\u001b[39m\u001b[39m.\u001b[39mf, t\u001b[39m=\u001b[39mtempl, valt\u001b[39m=\u001b[39m\u001b[39mtype\u001b[39m(value)))\n\u001b[0;32m--> 872\u001b[0m return_val \u001b[39m=\u001b[39m \u001b[39mself\u001b[39;49m\u001b[39m.\u001b[39;49mf(\u001b[39m*\u001b[39;49margs, \u001b[39m*\u001b[39;49m\u001b[39m*\u001b[39;49mkwargs)\n\u001b[1;32m    873\u001b[0m \u001b[39mif\u001b[39;00m \u001b[39mnot\u001b[39;00m \u001b[39misinstance\u001b[39m(return_val, \u001b[39mself\u001b[39m\u001b[39m.\u001b[39mreturn_templ):\n\u001b[1;32m    874\u001b[0m     msg \u001b[39m=\u001b[39m \u001b[39m\"\u001b[39m\u001b[39mReturn value of \u001b[39m\u001b[39m{f}\u001b[39;00m\u001b[39m of type \u001b[39m\u001b[39m{valt}\u001b[39;00m\u001b[39m \u001b[39m\u001b[39m\"\u001b[39m \u001b[39m\"\u001b[39m\u001b[39mdoes not match annotation type \u001b[39m\u001b[39m{t}\u001b[39;00m\u001b[39m\"\u001b[39m\n",
      "File \u001b[0;32m/workspaces/Text-Summarization/src/textSummarization/utils/common.py:39\u001b[0m, in \u001b[0;36mread_yaml\u001b[0;34m(path_to_yaml)\u001b[0m\n\u001b[1;32m     37\u001b[0m     \u001b[39mraise\u001b[39;00m BoxValueError(\u001b[39m\"\u001b[39m\u001b[39mEmpty yaml file\u001b[39m\u001b[39m\"\u001b[39m) \u001b[39mfrom\u001b[39;00m \u001b[39mexc\u001b[39;00m\n\u001b[1;32m     38\u001b[0m \u001b[39mexcept\u001b[39;00m \u001b[39mException\u001b[39;00m \u001b[39mas\u001b[39;00m error:\n\u001b[0;32m---> 39\u001b[0m     \u001b[39mraise\u001b[39;00m error\n",
      "File \u001b[0;32m/workspaces/Text-Summarization/src/textSummarization/utils/common.py:33\u001b[0m, in \u001b[0;36mread_yaml\u001b[0;34m(path_to_yaml)\u001b[0m\n\u001b[1;32m     31\u001b[0m \u001b[39mtry\u001b[39;00m:\n\u001b[1;32m     32\u001b[0m     \u001b[39mwith\u001b[39;00m \u001b[39mopen\u001b[39m(path_to_yaml, encoding\u001b[39m=\u001b[39m\u001b[39m'\u001b[39m\u001b[39mutf-8\u001b[39m\u001b[39m'\u001b[39m) \u001b[39mas\u001b[39;00m yaml_file:\n\u001b[0;32m---> 33\u001b[0m         content \u001b[39m=\u001b[39m yaml\u001b[39m.\u001b[39msafe_load(yaml_file)\n\u001b[1;32m     34\u001b[0m         logger\u001b[39m.\u001b[39minfo(\u001b[39m\"\u001b[39m\u001b[39mLoaded yaml file: \u001b[39m\u001b[39m%s\u001b[39;00m\u001b[39m\"\u001b[39m, path_to_yaml)\n\u001b[1;32m     35\u001b[0m         \u001b[39mreturn\u001b[39;00m ConfigBox(content)\n",
      "\u001b[0;31mNameError\u001b[0m: name 'yaml' is not defined"
     ]
    }
   ],
   "source": [
    "try:\n",
    "    config = ConfigurationManager()\n",
    "    data_ingestion_config = config.get_data_ingestion_config()\n",
    "    data_ingestion = DataIngestion(config=data_ingestion_config)\n",
    "    data_ingestion.download_file()\n",
    "    data_ingestion.extract_zip_file()\n",
    "except Exception as e:\n",
    "    logger.exception(e)\n",
    "    raise e\n",
    "    "
   ]
  }
 ],
 "metadata": {
  "kernelspec": {
   "display_name": "env",
   "language": "python",
   "name": "python3"
  },
  "language_info": {
   "codemirror_mode": {
    "name": "ipython",
    "version": 3
   },
   "file_extension": ".py",
   "mimetype": "text/x-python",
   "name": "python",
   "nbconvert_exporter": "python",
   "pygments_lexer": "ipython3",
   "version": "3.10.8"
  },
  "orig_nbformat": 4
 },
 "nbformat": 4,
 "nbformat_minor": 2
}
