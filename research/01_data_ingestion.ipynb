{
 "cells": [
  {
   "cell_type": "code",
   "execution_count": 9,
   "metadata": {},
   "outputs": [
    {
     "data": {
      "text/plain": [
       "'/workspaces/Text-Summarization'"
      ]
     },
     "execution_count": 9,
     "metadata": {},
     "output_type": "execute_result"
    }
   ],
   "source": [
    "%pwd"
   ]
  },
  {
   "cell_type": "markdown",
   "metadata": {},
   "source": [
    "Incase the pwd is not the home folder, change the directory to home folder\n",
    "import os\n",
    "os.chdir(\"../\")"
   ]
  },
  {
   "cell_type": "code",
   "execution_count": 2,
   "metadata": {},
   "outputs": [],
   "source": [
    "import os\n",
    "os.chdir(\"../\")"
   ]
  },
  {
   "cell_type": "code",
   "execution_count": 10,
   "metadata": {},
   "outputs": [
    {
     "data": {
      "text/plain": [
       "'/workspaces/Text-Summarization'"
      ]
     },
     "execution_count": 10,
     "metadata": {},
     "output_type": "execute_result"
    }
   ],
   "source": [
    "%pwd"
   ]
  },
  {
   "cell_type": "code",
   "execution_count": 11,
   "metadata": {},
   "outputs": [],
   "source": [
    "from dataclasses import dataclass\n",
    "from pathlib import Path\n",
    "\n",
    "@dataclass(frozen=True)\n",
    "class DataIngestionConfig:\n",
    "    root_dir: Path\n",
    "    source_url: str\n",
    "    local_data_file: Path\n",
    "    unzip_dir: Path\n"
   ]
  },
  {
   "cell_type": "code",
   "execution_count": 12,
   "metadata": {},
   "outputs": [],
   "source": [
    "from src.textSummarization.constants import *\n",
    "from src.textSummarization.utils.common import read_yaml, create_directories\n",
    "from pathlib import Path\n",
    "\n",
    "class ConfigurationManager:\n",
    "    def __init__(\n",
    "            self,\n",
    "            config_filepath = CONFIG_FILE_PATH,\n",
    "            params_filepath = PARAMS_FILE_PATH,\n",
    "            ):\n",
    "        print(\"Configuration Manager Initiated\")\n",
    "        # print(f\"Config File Path: {config_filepath}, with dtype {type(config_filepath)}\")\n",
    "        # print(f\"Params File Path: {params_filepath} with dtype {type(params_filepath)}\")\n",
    "        self.configs = read_yaml(config_filepath)\n",
    "        self.params = read_yaml(params_filepath)\n",
    "\n",
    "        # print(f\"Configs: {self.configs}\")\n",
    "        create_directories([self.configs.artifacts_root])\n",
    "\n",
    "    def get_data_ingestion_config(self) -> DataIngestionConfig:\n",
    "        config = self.configs.data_ingestion\n",
    "\n",
    "        create_directories([config.root_dir])\n",
    "\n",
    "        return DataIngestionConfig(\n",
    "            root_dir = Path(config.root_dir),\n",
    "            source_url = config.source_url,\n",
    "            local_data_file = config.local_data_file,\n",
    "            unzip_dir = config.unzip_dir\n",
    "        )\n",
    "\n",
    "# config_dummy = ConfigurationManager()\n"
   ]
  },
  {
   "cell_type": "code",
   "execution_count": 13,
   "metadata": {},
   "outputs": [],
   "source": [
    "import os\n",
    "import urllib.request as request\n",
    "from zipfile import ZipFile\n",
    "from src.textSummarization.logging import logger\n",
    "from src.textSummarization.utils.common import get_size\n",
    "from src.textSummarization.entity.config_entity import DataIngestionConfig"
   ]
  },
  {
   "cell_type": "code",
   "execution_count": 14,
   "metadata": {},
   "outputs": [],
   "source": [
    "class DataIngestion:\n",
    "    \"\"\"\n",
    "    Data Ingestion class\n",
    "    \"\"\"\n",
    "    def __init__(self, config: DataIngestionConfig):\n",
    "        self.config = config\n",
    "\n",
    "    def download_file(self):\n",
    "        \"\"\"\n",
    "        Download file from source url\n",
    "        \"\"\"\n",
    "        if not os.path.exists(self.config.local_data_file):\n",
    "            filename, headers = request.urlretrieve(\n",
    "                url = self.config.source_url,\n",
    "                filename = self.config.local_data_file\n",
    "            )\n",
    "            logger.info(\"Downloaded file %s with the folowing headers: \\n%s\", filename, headers)\n",
    "        else:\n",
    "            logger.info(\n",
    "                \"File already exists at %s of size %s\",\n",
    "                  self.config.local_data_file,\n",
    "                    get_size(self.config.local_data_file))\n",
    "\n",
    "    def extract_zip_file(self):\n",
    "        \"\"\"\n",
    "        extract the zip file\n",
    "        \"\"\"\n",
    "        unzip_path = self.config.unzip_dir\n",
    "        os.makedirs(unzip_path, exist_ok=True)\n",
    "        with ZipFile(self.config.local_data_file, 'r') as zip_file:\n",
    "            zip_file.extractall(path=unzip_path)\n",
    "            logger.info(\"Extracted file at %s\", self.config.unzip_dir)"
   ]
  },
  {
   "cell_type": "code",
   "execution_count": 17,
   "metadata": {},
   "outputs": [
    {
     "name": "stdout",
     "output_type": "stream",
     "text": [
      "Configuration Manager Initiated\n",
      "[2023-10-04 18:16:54,373: INFO: common] Loaded yaml file: config/config.yaml\n",
      "[2023-10-04 18:16:54,375: INFO: common] Loaded yaml file: params.yaml\n",
      "[2023-10-04 18:16:54,376: INFO: common] Created directory: artifacts\n",
      "[2023-10-04 18:16:54,376: INFO: common] Created directory: artifacts/data_ingestion\n",
      "[2023-10-04 18:16:54,375: INFO: common] Loaded yaml file: params.yaml\n",
      "[2023-10-04 18:16:54,376: INFO: common] Created directory: artifacts\n",
      "[2023-10-04 18:16:54,376: INFO: common] Created directory: artifacts/data_ingestion\n",
      "[2023-10-04 18:16:55,353: INFO: 3469703988] Downloaded file artifacts/data_ingestion/data.zip with the folowing headers: \n",
      "Connection: close\n",
      "Content-Length: 7903594\n",
      "Cache-Control: max-age=300\n",
      "Content-Security-Policy: default-src 'none'; style-src 'unsafe-inline'; sandbox\n",
      "Content-Type: application/zip\n",
      "ETag: \"dbc016a060da18070593b83afff580c9b300f0b6ea4147a7988433e04df246ca\"\n",
      "Strict-Transport-Security: max-age=31536000\n",
      "X-Content-Type-Options: nosniff\n",
      "X-Frame-Options: deny\n",
      "X-XSS-Protection: 1; mode=block\n",
      "X-GitHub-Request-Id: F100:136C9C:72801:89901:651DAB69\n",
      "Accept-Ranges: bytes\n",
      "Date: Wed, 04 Oct 2023 18:16:54 GMT\n",
      "Via: 1.1 varnish\n",
      "X-Served-By: cache-qpg1265-QPG\n",
      "X-Cache: HIT\n",
      "X-Cache-Hits: 0\n",
      "X-Timer: S1696443415.965605,VS0,VE11\n",
      "Vary: Authorization,Accept-Encoding,Origin\n",
      "Access-Control-Allow-Origin: *\n",
      "Cross-Origin-Resource-Policy: cross-origin\n",
      "X-Fastly-Request-ID: e870d869d763b04a43dd18455ca248ab94e4c2fb\n",
      "Expires: Wed, 04 Oct 2023 18:21:54 GMT\n",
      "Source-Age: 173\n",
      "\n",
      "\n",
      "[2023-10-04 18:16:55,470: INFO: 3469703988] Extracted file at artifacts/data_ingestion/unzipped_data\n"
     ]
    }
   ],
   "source": [
    "try:\n",
    "    config = ConfigurationManager()\n",
    "    data_ingestion_config = config.get_data_ingestion_config()\n",
    "    data_ingestion = DataIngestion(config=data_ingestion_config)\n",
    "    data_ingestion.download_file()\n",
    "    data_ingestion.extract_zip_file()\n",
    "except Exception as e:\n",
    "    logger.exception(e)\n",
    "    raise e\n",
    "    "
   ]
  },
  {
   "cell_type": "code",
   "execution_count": null,
   "metadata": {},
   "outputs": [],
   "source": []
  }
 ],
 "metadata": {
  "kernelspec": {
   "display_name": "env",
   "language": "python",
   "name": "python3"
  },
  "language_info": {
   "codemirror_mode": {
    "name": "ipython",
    "version": 3
   },
   "file_extension": ".py",
   "mimetype": "text/x-python",
   "name": "python",
   "nbconvert_exporter": "python",
   "pygments_lexer": "ipython3",
   "version": "3.10.8"
  },
  "orig_nbformat": 4
 },
 "nbformat": 4,
 "nbformat_minor": 2
}
