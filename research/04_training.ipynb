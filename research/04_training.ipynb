{
 "cells": [
  {
   "cell_type": "code",
   "execution_count": 1,
   "metadata": {
    "execution": {
     "iopub.execute_input": "2023-10-23T20:33:40.601783Z",
     "iopub.status.busy": "2023-10-23T20:33:40.601403Z",
     "iopub.status.idle": "2023-10-23T20:33:40.613340Z",
     "shell.execute_reply": "2023-10-23T20:33:40.612326Z",
     "shell.execute_reply.started": "2023-10-23T20:33:40.601756Z"
    },
    "tags": []
   },
   "outputs": [
    {
     "data": {
      "text/plain": [
       "'/home/jovyan/workspace/Text-Summarization/research'"
      ]
     },
     "execution_count": 1,
     "metadata": {},
     "output_type": "execute_result"
    }
   ],
   "source": [
    "%pwd"
   ]
  },
  {
   "cell_type": "code",
   "execution_count": 2,
   "metadata": {
    "execution": {
     "iopub.execute_input": "2023-10-23T20:33:41.331450Z",
     "iopub.status.busy": "2023-10-23T20:33:41.331080Z",
     "iopub.status.idle": "2023-10-23T20:33:41.335585Z",
     "shell.execute_reply": "2023-10-23T20:33:41.334767Z",
     "shell.execute_reply.started": "2023-10-23T20:33:41.331424Z"
    },
    "tags": []
   },
   "outputs": [],
   "source": [
    "import os\n",
    "os.chdir('../')"
   ]
  },
  {
   "cell_type": "code",
   "execution_count": 3,
   "metadata": {
    "execution": {
     "iopub.execute_input": "2023-10-23T20:33:41.979852Z",
     "iopub.status.busy": "2023-10-23T20:33:41.979473Z",
     "iopub.status.idle": "2023-10-23T20:33:41.985004Z",
     "shell.execute_reply": "2023-10-23T20:33:41.984365Z",
     "shell.execute_reply.started": "2023-10-23T20:33:41.979828Z"
    },
    "tags": []
   },
   "outputs": [
    {
     "data": {
      "text/plain": [
       "'/home/jovyan/workspace/Text-Summarization'"
      ]
     },
     "execution_count": 3,
     "metadata": {},
     "output_type": "execute_result"
    }
   ],
   "source": [
    "%pwd"
   ]
  },
  {
   "cell_type": "markdown",
   "metadata": {},
   "source": [
    "## Entities "
   ]
  },
  {
   "cell_type": "code",
   "execution_count": 4,
   "metadata": {
    "execution": {
     "iopub.execute_input": "2023-10-23T20:33:48.630274Z",
     "iopub.status.busy": "2023-10-23T20:33:48.629839Z",
     "iopub.status.idle": "2023-10-23T20:33:48.634068Z",
     "shell.execute_reply": "2023-10-23T20:33:48.633083Z",
     "shell.execute_reply.started": "2023-10-23T20:33:48.630248Z"
    },
    "tags": []
   },
   "outputs": [],
   "source": [
    "from dataclasses import dataclass\n",
    "from pathlib import Path"
   ]
  },
  {
   "cell_type": "code",
   "execution_count": 5,
   "metadata": {
    "execution": {
     "iopub.execute_input": "2023-10-23T20:33:49.151809Z",
     "iopub.status.busy": "2023-10-23T20:33:49.151436Z",
     "iopub.status.idle": "2023-10-23T20:33:49.157530Z",
     "shell.execute_reply": "2023-10-23T20:33:49.156743Z",
     "shell.execute_reply.started": "2023-10-23T20:33:49.151785Z"
    },
    "tags": []
   },
   "outputs": [],
   "source": [
    "@dataclass(frozen=True)\n",
    "class TrainingConfig:\n",
    "    root_dir: Path\n",
    "    data_path: Path\n",
    "    model_ckpt: Path\n",
    "    num_train_epochs: int\n",
    "    warmup_steps: int\n",
    "    per_device_train_batch_size: int\n",
    "    weight_decay: float\n",
    "    logging_steps: int\n",
    "    evaluation_strateg: str\n",
    "    eval_steps: int \n",
    "    save_steps: float\n",
    "    gradient_accumulation_steps: int\n",
    "    \n"
   ]
  },
  {
   "cell_type": "markdown",
   "metadata": {},
   "source": [
    "## configurtions manager in src/config"
   ]
  },
  {
   "cell_type": "code",
   "execution_count": 6,
   "metadata": {
    "execution": {
     "iopub.execute_input": "2023-10-23T20:33:50.204101Z",
     "iopub.status.busy": "2023-10-23T20:33:50.203687Z",
     "iopub.status.idle": "2023-10-23T20:33:50.262964Z",
     "shell.execute_reply": "2023-10-23T20:33:50.262196Z",
     "shell.execute_reply.started": "2023-10-23T20:33:50.204074Z"
    },
    "tags": []
   },
   "outputs": [],
   "source": [
    "from src.textSummarization.constants import CONFIG_FILE_PATH, PARAMS_FILE_PATH\n",
    "from src.textSummarization.utils.common import read_yaml, create_directories"
   ]
  },
  {
   "cell_type": "code",
   "execution_count": 7,
   "metadata": {
    "execution": {
     "iopub.execute_input": "2023-10-23T20:33:50.476125Z",
     "iopub.status.busy": "2023-10-23T20:33:50.475444Z",
     "iopub.status.idle": "2023-10-23T20:33:50.485377Z",
     "shell.execute_reply": "2023-10-23T20:33:50.484353Z",
     "shell.execute_reply.started": "2023-10-23T20:33:50.476084Z"
    },
    "tags": []
   },
   "outputs": [],
   "source": [
    "class ConfigurationManager():\n",
    "    def __init__(\n",
    "            self,\n",
    "            config_filepath=CONFIG_FILE_PATH,\n",
    "            params_filepath = PARAMS_FILE_PATH\n",
    "    ):\n",
    "        print(\"Configuration Manager Initiated\")\n",
    "        self.config = read_yaml(config_filepath)\n",
    "        self.params = read_yaml(params_filepath)\n",
    "\n",
    "        create_directories([self.config.artifacts_root])\n",
    "    \n",
    "\n",
    "    def get_training_config(self) -> TrainingConfig:\n",
    "        training = self.config.model_trainer\n",
    "        params = self.params.TrainingArguments\n",
    "\n",
    "        create_directories([Path(training.root_dir)])\n",
    "\n",
    "        training_config = TrainingConfig(\n",
    "            root_dir=Path(training.root_dir),\n",
    "            data_path= Path(training.data_path),\n",
    "            model_ckpt=Path(training.model_ckpt),\n",
    "            num_train_epochs=params.num_train_epochs,\n",
    "            warmup_steps=params.warmup_steps,\n",
    "            per_device_train_batch_size=params.per_device_train_batch_size,\n",
    "            weight_decay=params.weight_decay,\n",
    "            logging_steps=params.logging_steps,\n",
    "            evaluation_strateg=params.evaluation_strategy,\n",
    "            eval_steps=params.eval_steps,\n",
    "            save_steps=float(params.save_steps),\n",
    "            gradient_accumulation_steps=params.gradient_accumulation_steps\n",
    "        )\n",
    "        return training_config\n"
   ]
  },
  {
   "cell_type": "markdown",
   "metadata": {},
   "source": [
    "## Components"
   ]
  },
  {
   "cell_type": "code",
   "execution_count": 8,
   "metadata": {
    "execution": {
     "iopub.execute_input": "2023-10-23T20:33:50.749068Z",
     "iopub.status.busy": "2023-10-23T20:33:50.748699Z",
     "iopub.status.idle": "2023-10-23T20:33:52.877444Z",
     "shell.execute_reply": "2023-10-23T20:33:52.876666Z",
     "shell.execute_reply.started": "2023-10-23T20:33:50.749041Z"
    },
    "tags": []
   },
   "outputs": [],
   "source": [
    "from transformers import TrainingArguments, Trainer\n",
    "from transformers import DataCollatorForSeq2Seq\n",
    "from transformers import AutoModelForSeq2SeqLM, AutoTokenizer\n",
    "from datasets import load_dataset, load_from_disk\n",
    "import torch"
   ]
  },
  {
   "cell_type": "markdown",
   "metadata": {},
   "source": [
    "#### we are using the test dataset for training, whih is fatal and wrong. \n",
    "#### yet I am doing it anyhow to save time in prototyping. \n",
    "#### Dont forget to correct this in the actual code component and pipeline in src. \n",
    "#### use 'train', instead of 'test' in trainer in train(). "
   ]
  },
  {
   "cell_type": "code",
   "execution_count": 9,
   "metadata": {
    "execution": {
     "iopub.execute_input": "2023-10-23T20:33:52.879699Z",
     "iopub.status.busy": "2023-10-23T20:33:52.879075Z",
     "iopub.status.idle": "2023-10-23T20:33:52.889073Z",
     "shell.execute_reply": "2023-10-23T20:33:52.888197Z",
     "shell.execute_reply.started": "2023-10-23T20:33:52.879659Z"
    },
    "tags": []
   },
   "outputs": [],
   "source": [
    "class ModelTrainer():\n",
    "    def __init__(self, config: TrainingConfig):\n",
    "        self.config = config\n",
    "\n",
    "    \n",
    "    \n",
    "    def train(self):\n",
    "        device = \"cuda\" if torch.cuda.is_available() else \"cpu\"\n",
    "        tokenizer = AutoTokenizer.from_pretrained(self.config.model_ckpt)\n",
    "        model_pegasus = AutoModelForSeq2SeqLM.from_pretrained(self.config.model_ckpt)\n",
    "        seq2seq_data_collator = DataCollatorForSeq2Seq(\n",
    "            tokenizer=tokenizer,\n",
    "            model=model_pegasus\n",
    "        )\n",
    "        \n",
    "        # loading data\n",
    "        \n",
    "        dataset_samsum_pt = load_from_disk(self.config.data_path)\n",
    "        \n",
    "        training_args = TrainingArguments(\n",
    "            output_dir=self.config.root_dir,\n",
    "            num_train_epochs=self.config.num_train_epochs,\n",
    "            per_device_train_batch_size=self.config.per_device_train_batch_size,\n",
    "            save_steps=self.config.save_steps,\n",
    "            evaluation_strategy=self.config.evaluation_strateg,\n",
    "            eval_steps=self.config.eval_steps,\n",
    "            logging_steps=self.config.logging_steps,\n",
    "            gradient_accumulation_steps=self.config.gradient_accumulation_steps,\n",
    "            warmup_steps=self.config.warmup_steps,\n",
    "            weight_decay=self.config.weight_decay\n",
    "        )\n",
    "        \n",
    "        trainer = Trainer(\n",
    "            model=model_pegasus,\n",
    "            args=training_args,\n",
    "            tokenizer=tokenizer,\n",
    "            train_dataset=dataset_samsum_pt[\"test\"],\n",
    "            eval_dataset=dataset_samsum_pt[\"validation\"],\n",
    "            data_collator=seq2seq_data_collator\n",
    "        )\n",
    "        \n",
    "        trainer.train()\n",
    "        \n",
    "        # save the model\n",
    "        model_pegasus.save_pretrained(os.path.join(self.config.root_dir, \"pegasus-samsum-model\"))\n",
    "        \n",
    "        # save the tokenizer\n",
    "        tokenizer.save_pretrained(os.path.join(self.config.root_dir, \"tokenizer\"))\n",
    "        \n"
   ]
  },
  {
   "cell_type": "markdown",
   "metadata": {},
   "source": [
    "## Pipeline"
   ]
  },
  {
   "cell_type": "code",
   "execution_count": 10,
   "metadata": {
    "execution": {
     "iopub.execute_input": "2023-10-23T20:33:52.890857Z",
     "iopub.status.busy": "2023-10-23T20:33:52.890419Z",
     "iopub.status.idle": "2023-10-23T20:36:35.783130Z",
     "shell.execute_reply": "2023-10-23T20:36:35.782305Z",
     "shell.execute_reply.started": "2023-10-23T20:33:52.890820Z"
    },
    "tags": []
   },
   "outputs": [
    {
     "name": "stdout",
     "output_type": "stream",
     "text": [
      "Configuration Manager Initiated\n",
      "[2023-10-23 20:33:52,896: INFO: common] yaml file: config/config.yaml loaded successfully\n",
      "[2023-10-23 20:33:52,899: INFO: common] yaml file: params.yaml loaded successfully\n",
      "[2023-10-23 20:33:52,900: INFO: common] directory: artifacts created successfully\n",
      "[2023-10-23 20:33:52,901: INFO: common] directory: artifacts/model_trainer created successfully\n"
     ]
    },
    {
     "name": "stderr",
     "output_type": "stream",
     "text": [
      "Some weights of PegasusForConditionalGeneration were not initialized from the model checkpoint at google/pegasus-cnn_dailymail and are newly initialized: ['model.decoder.embed_positions.weight', 'model.encoder.embed_positions.weight']\n",
      "You should probably TRAIN this model on a down-stream task to be able to use it for predictions and inference.\n",
      "You're using a PegasusTokenizerFast tokenizer. Please note that with a fast tokenizer, using the `__call__` method is faster than using a method to encode the text followed by a call to the `pad` method to get a padded encoding.\n"
     ]
    },
    {
     "data": {
      "text/html": [
       "\n",
       "    <div>\n",
       "      \n",
       "      <progress value='51' max='51' style='width:300px; height:20px; vertical-align: middle;'></progress>\n",
       "      [51/51 02:18, Epoch 0/1]\n",
       "    </div>\n",
       "    <table border=\"1\" class=\"dataframe\">\n",
       "  <thead>\n",
       " <tr style=\"text-align: left;\">\n",
       "      <th>Step</th>\n",
       "      <th>Training Loss</th>\n",
       "      <th>Validation Loss</th>\n",
       "    </tr>\n",
       "  </thead>\n",
       "  <tbody>\n",
       "  </tbody>\n",
       "</table><p>"
      ],
      "text/plain": [
       "<IPython.core.display.HTML object>"
      ]
     },
     "metadata": {},
     "output_type": "display_data"
    }
   ],
   "source": [
    "try:\n",
    "    config = ConfigurationManager()\n",
    "    model_trainer_config = config.get_training_config()\n",
    "    model_trainer = ModelTrainer(config=model_trainer_config)\n",
    "    model_trainer.train()\n",
    "except Exception as e:\n",
    "    raise e\n"
   ]
  },
  {
   "cell_type": "code",
   "execution_count": null,
   "metadata": {},
   "outputs": [],
   "source": []
  }
 ],
 "metadata": {
  "kernelspec": {
   "display_name": "saturn (Python 3)",
   "language": "python",
   "name": "python3"
  },
  "language_info": {
   "codemirror_mode": {
    "name": "ipython",
    "version": 3
   },
   "file_extension": ".py",
   "mimetype": "text/x-python",
   "name": "python",
   "nbconvert_exporter": "python",
   "pygments_lexer": "ipython3",
   "version": "3.9.15"
  }
 },
 "nbformat": 4,
 "nbformat_minor": 4
}
