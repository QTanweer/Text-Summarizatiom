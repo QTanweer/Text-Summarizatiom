{
 "cells": [
  {
   "cell_type": "code",
   "execution_count": 1,
   "metadata": {
    "execution": {
     "iopub.execute_input": "2023-10-24T20:54:42.030385Z",
     "iopub.status.busy": "2023-10-24T20:54:42.029767Z",
     "iopub.status.idle": "2023-10-24T20:54:42.040230Z",
     "shell.execute_reply": "2023-10-24T20:54:42.039594Z",
     "shell.execute_reply.started": "2023-10-24T20:54:42.030358Z"
    },
    "tags": []
   },
   "outputs": [
    {
     "data": {
      "text/plain": [
       "'/home/jovyan/workspace/Text-Summarization/research'"
      ]
     },
     "execution_count": 1,
     "metadata": {},
     "output_type": "execute_result"
    }
   ],
   "source": [
    "%pwd"
   ]
  },
  {
   "cell_type": "code",
   "execution_count": 2,
   "metadata": {
    "execution": {
     "iopub.execute_input": "2023-10-24T20:54:42.722675Z",
     "iopub.status.busy": "2023-10-24T20:54:42.722273Z",
     "iopub.status.idle": "2023-10-24T20:54:42.726451Z",
     "shell.execute_reply": "2023-10-24T20:54:42.725621Z",
     "shell.execute_reply.started": "2023-10-24T20:54:42.722651Z"
    },
    "tags": []
   },
   "outputs": [],
   "source": [
    "import os\n",
    "os.chdir('../')"
   ]
  },
  {
   "cell_type": "code",
   "execution_count": 3,
   "metadata": {
    "execution": {
     "iopub.execute_input": "2023-10-24T20:54:43.428595Z",
     "iopub.status.busy": "2023-10-24T20:54:43.427646Z",
     "iopub.status.idle": "2023-10-24T20:54:43.433405Z",
     "shell.execute_reply": "2023-10-24T20:54:43.432660Z",
     "shell.execute_reply.started": "2023-10-24T20:54:43.428554Z"
    },
    "tags": []
   },
   "outputs": [
    {
     "data": {
      "text/plain": [
       "'/home/jovyan/workspace/Text-Summarization'"
      ]
     },
     "execution_count": 3,
     "metadata": {},
     "output_type": "execute_result"
    }
   ],
   "source": [
    "%pwd"
   ]
  },
  {
   "cell_type": "markdown",
   "metadata": {},
   "source": [
    "## Entities "
   ]
  },
  {
   "cell_type": "code",
   "execution_count": 4,
   "metadata": {
    "execution": {
     "iopub.execute_input": "2023-10-24T20:54:44.764151Z",
     "iopub.status.busy": "2023-10-24T20:54:44.763760Z",
     "iopub.status.idle": "2023-10-24T20:54:44.767541Z",
     "shell.execute_reply": "2023-10-24T20:54:44.766813Z",
     "shell.execute_reply.started": "2023-10-24T20:54:44.764127Z"
    },
    "tags": []
   },
   "outputs": [],
   "source": [
    "from dataclasses import dataclass\n",
    "from pathlib import Path"
   ]
  },
  {
   "cell_type": "code",
   "execution_count": 5,
   "metadata": {
    "execution": {
     "iopub.execute_input": "2023-10-24T20:54:45.645171Z",
     "iopub.status.busy": "2023-10-24T20:54:45.644756Z",
     "iopub.status.idle": "2023-10-24T20:54:45.650260Z",
     "shell.execute_reply": "2023-10-24T20:54:45.649443Z",
     "shell.execute_reply.started": "2023-10-24T20:54:45.645145Z"
    },
    "tags": []
   },
   "outputs": [],
   "source": [
    "\n",
    "@dataclass(frozen=True)\n",
    "class EvaluationConfig:\n",
    "    root_dir: Path\n",
    "    data_path: Path\n",
    "    model_path: Path\n",
    "    tokenizer_path: Path\n",
    "    metric_file_name: Path\n",
    "    \n",
    "    "
   ]
  },
  {
   "cell_type": "markdown",
   "metadata": {},
   "source": [
    "## configurtions manager in src/config"
   ]
  },
  {
   "cell_type": "code",
   "execution_count": 6,
   "metadata": {
    "execution": {
     "iopub.execute_input": "2023-10-24T20:54:46.886599Z",
     "iopub.status.busy": "2023-10-24T20:54:46.886200Z",
     "iopub.status.idle": "2023-10-24T20:54:47.070865Z",
     "shell.execute_reply": "2023-10-24T20:54:47.070287Z",
     "shell.execute_reply.started": "2023-10-24T20:54:46.886574Z"
    },
    "tags": []
   },
   "outputs": [],
   "source": [
    "from textSummarization.constants import CONFIG_FILE_PATH, PARAMS_FILE_PATH\n",
    "from textSummarization.utils.common import read_yaml, create_directories"
   ]
  },
  {
   "cell_type": "code",
   "execution_count": 14,
   "metadata": {
    "execution": {
     "iopub.execute_input": "2023-10-24T21:00:45.382752Z",
     "iopub.status.busy": "2023-10-24T21:00:45.382361Z",
     "iopub.status.idle": "2023-10-24T21:00:45.388363Z",
     "shell.execute_reply": "2023-10-24T21:00:45.387540Z",
     "shell.execute_reply.started": "2023-10-24T21:00:45.382728Z"
    },
    "tags": []
   },
   "outputs": [],
   "source": [
    "class ConfigurationManager():\n",
    "    def __init__(\n",
    "            self,\n",
    "            config_filepath=CONFIG_FILE_PATH,\n",
    "            params_filepath = PARAMS_FILE_PATH\n",
    "    ):\n",
    "        print(\"Configuration Manager Initiated\")\n",
    "        self.config = read_yaml(config_filepath)\n",
    "        self.params = read_yaml(params_filepath)\n",
    "\n",
    "        create_directories([self.config.model_evaluation.root_dir])\n",
    "\n",
    "    def get_evaluation_config(self) -> EvaluationConfig:\n",
    "        eval_config = EvaluationConfig(\n",
    "            root_dir=Path(self.config.model_evaluation.root_dir),\n",
    "            data_path=Path(self.config.model_evaluation.data_path),\n",
    "            model_path=Path(self.config.model_evaluation.model_path),\n",
    "            tokenizer_path=Path(self.config.model_evaluation.tokenizer_path),\n",
    "            metric_file_name=Path(self.config.model_evaluation.metric_file_name)\n",
    "        )\n",
    "        return eval_config\n"
   ]
  },
  {
   "cell_type": "markdown",
   "metadata": {},
   "source": [
    "## Components"
   ]
  },
  {
   "cell_type": "code",
   "execution_count": 8,
   "metadata": {
    "execution": {
     "iopub.execute_input": "2023-10-24T20:54:49.020206Z",
     "iopub.status.busy": "2023-10-24T20:54:49.019811Z",
     "iopub.status.idle": "2023-10-24T20:54:52.077497Z",
     "shell.execute_reply": "2023-10-24T20:54:52.076848Z",
     "shell.execute_reply.started": "2023-10-24T20:54:49.020180Z"
    },
    "tags": []
   },
   "outputs": [],
   "source": [
    "from transformers import AutoTokenizer, AutoModelForSeq2SeqLM\n",
    "from datasets import load_from_disk, load_dataset\n",
    "import torch\n",
    "import pandas as pd\n",
    "from tqdm import tqdm"
   ]
  },
  {
   "cell_type": "code",
   "execution_count": 9,
   "metadata": {
    "execution": {
     "iopub.execute_input": "2023-10-24T20:54:52.079759Z",
     "iopub.status.busy": "2023-10-24T20:54:52.079084Z",
     "iopub.status.idle": "2023-10-24T20:54:53.384449Z",
     "shell.execute_reply": "2023-10-24T20:54:53.383489Z",
     "shell.execute_reply.started": "2023-10-24T20:54:52.079724Z"
    },
    "tags": []
   },
   "outputs": [],
   "source": [
    "import evaluate"
   ]
  },
  {
   "cell_type": "code",
   "execution_count": 12,
   "metadata": {
    "execution": {
     "iopub.execute_input": "2023-10-24T20:59:07.643168Z",
     "iopub.status.busy": "2023-10-24T20:59:07.642763Z",
     "iopub.status.idle": "2023-10-24T20:59:07.656079Z",
     "shell.execute_reply": "2023-10-24T20:59:07.655230Z",
     "shell.execute_reply.started": "2023-10-24T20:59:07.643141Z"
    },
    "tags": []
   },
   "outputs": [],
   "source": [
    "class Evaluation:\n",
    "    def __init__(self, config: EvaluationConfig):\n",
    "        self.config = config\n",
    "        \n",
    "        \n",
    "    def generate_batch_sized_chunks(self, list_of_elements, batch_size):\n",
    "        \n",
    "        \n",
    "        for i in range(0, len(list_of_elements), batch_size):\n",
    "            yield list_of_elements[i:i+batch_size]\n",
    "    \n",
    "    \n",
    "    def calculate_metric_on_test_ds(self, dataset, metric, model, tokenizer, device,\n",
    "                                batch_size = 16,\n",
    "                                column_text = 'article',\n",
    "                                column_summary = 'highlights'):\n",
    "        \n",
    "        article_batches = list(self.generate_batch_sized_chunks(dataset[column_text], batch_size))\n",
    "        target_batches = list(self.generate_batch_sized_chunks(dataset[column_summary], batch_size))\n",
    "        \n",
    "        for article_batch, target in tqdm(zip(article_batches, target_batches),\n",
    "                                          total = len(article_batches)):\n",
    "            inputs = tokenizer(article_batch, truncation = True, padding = \"max_length\",\n",
    "                         max_length = 1024, return_tensors=\"pt\")\n",
    "            summaries = model.generate(\n",
    "                input_ids = inputs['input_ids'].to(device),\n",
    "                attention_mask = inputs['attention_mask'].to(device),\n",
    "                length_penalty = 0.8, num_beams = 4, max_length = 128\n",
    "            )\n",
    "            \n",
    "            # paramter for penalty ensures that ............\n",
    "            # finally, we decode the generated texts,\n",
    "            # replace the token and add the decoded texts with the references to the metric\n",
    "            \n",
    "            decoded_summaries = [tokenizer.decode(s, skip_special_tokens = True,\n",
    "                                                  clean_up_tokenization_spaces = True) for s in summaries]\n",
    "            \n",
    "            decoded_summaries = [d.replace(\"\", \" \") for d in decoded_summaries]\n",
    "            metric.add_batch(predictions = decoded_summaries, references = target)\n",
    "            \n",
    "        score = metric.compute()\n",
    "        return score\n",
    "    \n",
    "    \n",
    "    def evaluate(self):\n",
    "        device = 'cuda' if torch.cuda.is_available() else 'cpu'\n",
    "        \n",
    "        tokenizer = AutoTokenizer.from_pretrained(self.config.tokenizer_path)\n",
    "        model_pegasus = AutoModelForSeq2SeqLM.from_pretrained(self.config.model_path).to(device)\n",
    "        \n",
    "        # loading the dataset\n",
    "        \n",
    "        dataset_samsum_pt =  load_from_disk(self.config.data_path)\n",
    "        \n",
    "        rouge_names = [\"rouge1\", \"rouge2\", \"rougeL\", \"rougeLsum\"]\n",
    "        rouge_metric = evaluate.load('rouge')\n",
    "        \n",
    "        score =  self.calculate_metric_on_test_ds(\n",
    "            dataset_samsum_pt['test'][0:10], rouge_metric, model_pegasus, tokenizer,\n",
    "            batch_size = 2, column_text = 'dialogue', column_summary = 'summary', device = device\n",
    "        )\n",
    "        print(score)\n",
    "        rouge_dict  = dict((rn, score[rn]) for rn in rouge_names)\n",
    "        df = pd.DataFrame(rouge_dict, index = [f\"pegasus\"])\n",
    "        df.to_csv(self.config.metric_file_name)\n",
    "    "
   ]
  },
  {
   "cell_type": "markdown",
   "metadata": {},
   "source": [
    "## Pipeline"
   ]
  },
  {
   "cell_type": "code",
   "execution_count": 15,
   "metadata": {
    "execution": {
     "iopub.execute_input": "2023-10-24T21:00:51.760363Z",
     "iopub.status.busy": "2023-10-24T21:00:51.759959Z",
     "iopub.status.idle": "2023-10-24T21:01:12.813726Z",
     "shell.execute_reply": "2023-10-24T21:01:12.813004Z",
     "shell.execute_reply.started": "2023-10-24T21:00:51.760339Z"
    },
    "tags": []
   },
   "outputs": [
    {
     "name": "stdout",
     "output_type": "stream",
     "text": [
      "Configuration Manager Initiated\n",
      "[2023-10-24 21:00:51,766: INFO: common] yaml file: config/config.yaml loaded successfully\n",
      "[2023-10-24 21:00:51,769: INFO: common] yaml file: params.yaml loaded successfully\n",
      "[2023-10-24 21:00:51,771: INFO: common] directory: artifacts/model_evaluation created successfully\n"
     ]
    },
    {
     "name": "stderr",
     "output_type": "stream",
     "text": [
      "100%|██████████| 5/5 [00:09<00:00,  1.82s/it]"
     ]
    },
    {
     "name": "stdout",
     "output_type": "stream",
     "text": [
      "[2023-10-24 21:01:12,556: INFO: rouge_scorer] Using default tokenizer.\n"
     ]
    },
    {
     "name": "stderr",
     "output_type": "stream",
     "text": [
      "\n"
     ]
    },
    {
     "name": "stdout",
     "output_type": "stream",
     "text": [
      "{'rouge1': 0.02088039683055932, 'rouge2': 0.0, 'rougeL': 0.020484658677419974, 'rougeLsum': 0.020294797623617775}\n"
     ]
    }
   ],
   "source": [
    "try:\n",
    "    config = ConfigurationManager()\n",
    "    evaluation_config = config.get_evaluation_config()\n",
    "    evaluation = Evaluation(config=evaluation_config)\n",
    "    evaluation.evaluate()\n",
    "except Exception as e:\n",
    "    raise e\n"
   ]
  },
  {
   "cell_type": "code",
   "execution_count": null,
   "metadata": {},
   "outputs": [],
   "source": []
  },
  {
   "cell_type": "code",
   "execution_count": null,
   "metadata": {},
   "outputs": [],
   "source": []
  }
 ],
 "metadata": {
  "kernelspec": {
   "display_name": "saturn (Python 3)",
   "language": "python",
   "name": "python3"
  },
  "language_info": {
   "codemirror_mode": {
    "name": "ipython",
    "version": 3
   },
   "file_extension": ".py",
   "mimetype": "text/x-python",
   "name": "python",
   "nbconvert_exporter": "python",
   "pygments_lexer": "ipython3",
   "version": "3.9.15"
  }
 },
 "nbformat": 4,
 "nbformat_minor": 4
}
