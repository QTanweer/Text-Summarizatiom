{
 "cells": [
  {
   "cell_type": "code",
   "execution_count": 1,
   "metadata": {
    "execution": {
     "iopub.execute_input": "2023-10-23T21:10:55.655152Z",
     "iopub.status.busy": "2023-10-23T21:10:55.654753Z",
     "iopub.status.idle": "2023-10-23T21:10:55.665278Z",
     "shell.execute_reply": "2023-10-23T21:10:55.664604Z",
     "shell.execute_reply.started": "2023-10-23T21:10:55.655124Z"
    },
    "tags": []
   },
   "outputs": [
    {
     "data": {
      "text/plain": [
       "'/home/jovyan/workspace/Text-Summarization/research'"
      ]
     },
     "execution_count": 1,
     "metadata": {},
     "output_type": "execute_result"
    }
   ],
   "source": [
    "%pwd"
   ]
  },
  {
   "cell_type": "code",
   "execution_count": 2,
   "metadata": {
    "execution": {
     "iopub.execute_input": "2023-10-23T21:10:58.093749Z",
     "iopub.status.busy": "2023-10-23T21:10:58.093366Z",
     "iopub.status.idle": "2023-10-23T21:10:58.097327Z",
     "shell.execute_reply": "2023-10-23T21:10:58.096533Z",
     "shell.execute_reply.started": "2023-10-23T21:10:58.093725Z"
    },
    "tags": []
   },
   "outputs": [],
   "source": [
    "import os\n",
    "os.chdir('../')"
   ]
  },
  {
   "cell_type": "code",
   "execution_count": 5,
   "metadata": {
    "execution": {
     "iopub.execute_input": "2023-10-23T21:18:50.721090Z",
     "iopub.status.busy": "2023-10-23T21:18:50.720715Z",
     "iopub.status.idle": "2023-10-23T21:18:50.726623Z",
     "shell.execute_reply": "2023-10-23T21:18:50.725706Z",
     "shell.execute_reply.started": "2023-10-23T21:18:50.721063Z"
    },
    "tags": []
   },
   "outputs": [
    {
     "data": {
      "text/plain": [
       "'/home/jovyan/workspace/Text-Summarization'"
      ]
     },
     "execution_count": 5,
     "metadata": {},
     "output_type": "execute_result"
    }
   ],
   "source": [
    "%pwd"
   ]
  },
  {
   "cell_type": "markdown",
   "metadata": {},
   "source": [
    "## Entities "
   ]
  },
  {
   "cell_type": "code",
   "execution_count": 6,
   "metadata": {
    "execution": {
     "iopub.execute_input": "2023-10-23T21:18:52.684863Z",
     "iopub.status.busy": "2023-10-23T21:18:52.684488Z",
     "iopub.status.idle": "2023-10-23T21:18:52.688284Z",
     "shell.execute_reply": "2023-10-23T21:18:52.687526Z",
     "shell.execute_reply.started": "2023-10-23T21:18:52.684841Z"
    },
    "tags": []
   },
   "outputs": [],
   "source": [
    "from dataclasses import dataclass\n",
    "from pathlib import Path"
   ]
  },
  {
   "cell_type": "code",
   "execution_count": 7,
   "metadata": {
    "execution": {
     "iopub.execute_input": "2023-10-23T21:18:54.104499Z",
     "iopub.status.busy": "2023-10-23T21:18:54.104120Z",
     "iopub.status.idle": "2023-10-23T21:18:54.109365Z",
     "shell.execute_reply": "2023-10-23T21:18:54.108660Z",
     "shell.execute_reply.started": "2023-10-23T21:18:54.104471Z"
    },
    "tags": []
   },
   "outputs": [],
   "source": [
    "\n",
    "@dataclass(frozen=True)\n",
    "class EvaluationConfig:\n",
    "    root_dir: Path\n",
    "    data_path: Path\n",
    "    model_path: Path\n",
    "    tokenizer_path: Path\n",
    "    metric_file_name: Path\n",
    "    \n",
    "    "
   ]
  },
  {
   "cell_type": "markdown",
   "metadata": {},
   "source": [
    "## configurtions manager in src/config"
   ]
  },
  {
   "cell_type": "code",
   "execution_count": 9,
   "metadata": {
    "execution": {
     "iopub.execute_input": "2023-10-23T21:20:36.474028Z",
     "iopub.status.busy": "2023-10-23T21:20:36.473604Z",
     "iopub.status.idle": "2023-10-23T21:20:36.478127Z",
     "shell.execute_reply": "2023-10-23T21:20:36.477225Z",
     "shell.execute_reply.started": "2023-10-23T21:20:36.474002Z"
    },
    "tags": []
   },
   "outputs": [],
   "source": [
    "from textSummarization.constants import CONFIG_FILE_PATH, PARAMS_FILE_PATH\n",
    "from textSummarization.utils.common import read_yaml, create_directories"
   ]
  },
  {
   "cell_type": "code",
   "execution_count": 10,
   "metadata": {
    "execution": {
     "iopub.execute_input": "2023-10-23T21:23:17.712253Z",
     "iopub.status.busy": "2023-10-23T21:23:17.711862Z",
     "iopub.status.idle": "2023-10-23T21:23:17.718087Z",
     "shell.execute_reply": "2023-10-23T21:23:17.717172Z",
     "shell.execute_reply.started": "2023-10-23T21:23:17.712228Z"
    },
    "tags": []
   },
   "outputs": [],
   "source": [
    "class ConfigurationManager():\n",
    "    def __init__(\n",
    "            self,\n",
    "            config_filepath=CONFIG_FILE_PATH,\n",
    "            params_filepath = PARAMS_FILE_PATH\n",
    "    ):\n",
    "        print(\"Configuration Manager Initiated\")\n",
    "        self.config = read_yaml(config_filepath)\n",
    "        self.params = read_yaml(params_filepath)\n",
    "\n",
    "        create_directories([self.config.artifacts_root])\n",
    "\n",
    "    def get_validation_config(self) -> EvaluationConfig:\n",
    "        eval_config = EvaluationConfig(\n",
    "            root_dir=Path(self.config.model_evaluation.root_dir),\n",
    "            data_path=Path(self.config.model_evaluation.data_path),\n",
    "            model_path=Path(self.config.model_evaluation.model_path),\n",
    "            tokenizer_path=Path(self.config.model_evaluation.tokenizer_path),\n",
    "            metric_file_name=Path(self.config.model_evaluation.metric_file_name)\n",
    "        )\n",
    "        return eval_config\n"
   ]
  },
  {
   "cell_type": "markdown",
   "metadata": {},
   "source": [
    "## Components"
   ]
  },
  {
   "cell_type": "code",
   "execution_count": 11,
   "metadata": {
    "execution": {
     "iopub.execute_input": "2023-10-23T21:27:31.846470Z",
     "iopub.status.busy": "2023-10-23T21:27:31.846080Z",
     "iopub.status.idle": "2023-10-23T21:27:33.410966Z",
     "shell.execute_reply": "2023-10-23T21:27:33.409960Z",
     "shell.execute_reply.started": "2023-10-23T21:27:31.846440Z"
    },
    "tags": []
   },
   "outputs": [],
   "source": [
    "from transformers import AutoTokenizer, AutoModelForSeq2SeqLM\n",
    "from datasets import load_metric, load_from_disk, load_dataset\n",
    "import torch\n",
    "import pandas as pd\n",
    "from tqdm import tqdm"
   ]
  },
  {
   "cell_type": "code",
   "execution_count": 15,
   "metadata": {},
   "outputs": [],
   "source": [
    "class Evaluation:\n",
    "    def __init__(self, config: EvaluationConfig):\n",
    "        self.config = config\n",
    "        \n",
    "        \n",
    "    def generate_batch_sized_chunks(self, list_of_elements, batch_size):\n",
    "         \"\"\"\n",
    "         split the dataset into batches so we can process_simulaneously\n",
    "         yield successful batch sized chunks from list_of elements\n",
    "         \n",
    "        \"\"\"\n",
    "            for i in range(0, len(list_of_elements), batch_size):\n",
    "                yield list_of_elements[i:i+batch_size]\n",
    "                \n",
    "    \n",
    "    "
   ]
  },
  {
   "cell_type": "markdown",
   "metadata": {},
   "source": [
    "## Pipeline"
   ]
  },
  {
   "cell_type": "code",
   "execution_count": 16,
   "metadata": {
    "execution": {
     "iopub.execute_input": "2023-09-25T06:44:10.914284Z",
     "iopub.status.busy": "2023-09-25T06:44:10.913876Z",
     "iopub.status.idle": "2023-09-25T06:44:26.885751Z",
     "shell.execute_reply": "2023-09-25T06:44:26.885082Z",
     "shell.execute_reply.started": "2023-09-25T06:44:10.914261Z"
    },
    "tags": []
   },
   "outputs": [
    {
     "name": "stdout",
     "output_type": "stream",
     "text": [
      "Configuration Manager Initiated\n",
      "[ 2023-09-28 07:06:40,889: INFO: common:  yaml file: config/config.yaml loaded successfully]\n",
      "[ 2023-09-28 07:06:40,891: INFO: common:  yaml file: params.yaml loaded successfully]\n",
      "[ 2023-09-28 07:06:40,892: INFO: common:  directory: artifacts created successfully]\n",
      "[ 2023-09-28 07:06:40,893: INFO: common:  directory: artifacts created successfully]\n",
      "Found 240 images belonging to 2 classes.\n",
      "15/15 [==============================] - 41s 3s/step - loss: 0.1969 - accuracy: 0.9583\n",
      "[ 2023-09-28 07:07:23,566: INFO: common:  json file: scores.json saved successfully]\n"
     ]
    }
   ],
   "source": [
    "try:\n",
    "    config = ConfigurationManager()\n",
    "    val_config = config.get_validation_config()\n",
    "    evaluation = Evaluation(config=val_config)\n",
    "    evaluation.evaluation()\n",
    "    evaluation.save_score()\n",
    "    \n",
    "except Exception as e:\n",
    "    raise e\n"
   ]
  }
 ],
 "metadata": {
  "kernelspec": {
   "display_name": "saturn (Python 3)",
   "language": "python",
   "name": "python3"
  },
  "language_info": {
   "codemirror_mode": {
    "name": "ipython",
    "version": 3
   },
   "file_extension": ".py",
   "mimetype": "text/x-python",
   "name": "python",
   "nbconvert_exporter": "python",
   "pygments_lexer": "ipython3",
   "version": "3.9.15"
  }
 },
 "nbformat": 4,
 "nbformat_minor": 4
}
